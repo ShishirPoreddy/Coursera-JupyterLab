{
 "cells": [
  {
   "cell_type": "markdown",
   "id": "369659d0-c4e8-467f-b07c-367063597dcc",
   "metadata": {},
   "source": [
    "# Data Science Tools and Ecosystem"
   ]
  },
  {
   "cell_type": "markdown",
   "id": "f42b1808-57c2-4ff2-b292-067b07386bc9",
   "metadata": {},
   "source": [
    "## Author: \n",
    "Shishir Poreddy"
   ]
  },
  {
   "cell_type": "markdown",
   "id": "6b15b062-4e6e-4a12-9d41-dff243d196f3",
   "metadata": {},
   "source": [
    "In this notebook, Data Science Tools and Ecosystem are summarized. "
   ]
  },
  {
   "cell_type": "markdown",
   "id": "b29dfc27-576d-4d68-8652-ed41708820f6",
   "metadata": {},
   "source": [
    "__Objectives:__ \n",
    "* List popular languages for Data Science \n",
    "* List popular libraries for Data Science \n",
    "* Table of popular tools for Data Science \n",
    "* Examples of simple arithmetic expressions"
   ]
  },
  {
   "cell_type": "markdown",
   "id": "f0f47f78-cf61-46e8-8025-950a159bfa87",
   "metadata": {},
   "source": [
    "Some of the popular languages that Data Scientists use are: \n",
    "1. Python \n",
    "2. SQL \n",
    "3. R"
   ]
  },
  {
   "cell_type": "markdown",
   "id": "41889a65-9274-4b5a-af66-25bb3943ffef",
   "metadata": {},
   "source": [
    "Some of the commonly used libraries used by Data Scientists include: \n",
    "1. Pandas\n",
    "2. NumPy\n",
    "3. Matplotlib\n",
    "    "
   ]
  },
  {
   "cell_type": "markdown",
   "id": "a547c2d1-ac36-4056-af74-c182ac10c1a1",
   "metadata": {},
   "source": [
    "| Data Science Tools | \n",
    "|--------------------|\n",
    "| RStudio|\n",
    "|Apache Spark|\n",
    "|TensorFlow|\n"
   ]
  },
  {
   "cell_type": "markdown",
   "id": "fc3ed320-0647-4e51-ac88-3fc7a7c41d9f",
   "metadata": {},
   "source": [
    "### Below are a few examples of evaluating arithmetic expressions in Python. "
   ]
  },
  {
   "cell_type": "code",
   "execution_count": 10,
   "id": "5b1d334e-0554-4787-be94-8b69f8edda31",
   "metadata": {},
   "outputs": [
    {
     "data": {
      "text/plain": [
       "17"
      ]
     },
     "execution_count": 10,
     "metadata": {},
     "output_type": "execute_result"
    }
   ],
   "source": [
    "(3*4)+5\n",
    "#This is a simple arithmetic expression \n",
    "#to multiply then add integers"
   ]
  },
  {
   "cell_type": "code",
   "execution_count": 14,
   "id": "3c4e4a33-9dc7-4e4b-a018-cd6de2dbba48",
   "metadata": {},
   "outputs": [
    {
     "data": {
      "text/plain": [
       "'There are roughly 3.3333333333333335'"
      ]
     },
     "execution_count": 14,
     "metadata": {},
     "output_type": "execute_result"
    }
   ],
   "source": [
    "MinHr = 60\n",
    "hours = 200/MinHr\n",
    "f'There are roughly {hours}'\n",
    "#This will convert 200 minutes to hours by diving by 60. "
   ]
  },
  {
   "cell_type": "markdown",
   "id": "c46df901-fcf3-49fa-ad32-59f1ddd08b54",
   "metadata": {},
   "source": []
  }
 ],
 "metadata": {
  "kernelspec": {
   "display_name": "Python 3 (ipykernel)",
   "language": "python",
   "name": "python3"
  },
  "language_info": {
   "codemirror_mode": {
    "name": "ipython",
    "version": 3
   },
   "file_extension": ".py",
   "mimetype": "text/x-python",
   "name": "python",
   "nbconvert_exporter": "python",
   "pygments_lexer": "ipython3",
   "version": "3.9.12"
  }
 },
 "nbformat": 4,
 "nbformat_minor": 5
}
